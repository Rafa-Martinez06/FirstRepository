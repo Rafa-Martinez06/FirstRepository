{
  "nbformat": 4,
  "nbformat_minor": 0,
  "metadata": {
    "colab": {
      "provenance": [],
      "toc_visible": true,
      "include_colab_link": true
    },
    "kernelspec": {
      "name": "python3",
      "display_name": "Python 3"
    },
    "language_info": {
      "name": "python"
    }
  },
  "cells": [
    {
      "cell_type": "markdown",
      "metadata": {
        "id": "view-in-github",
        "colab_type": "text"
      },
      "source": [
        "<a href=\"https://colab.research.google.com/github/Rafa-Martinez06/FirstRepository/blob/main/Introduction_to_Python_and_Foundational_Concepts.ipynb\" target=\"_parent\"><img src=\"https://colab.research.google.com/assets/colab-badge.svg\" alt=\"Open In Colab\"/></a>"
      ]
    },
    {
      "cell_type": "markdown",
      "source": [
        "## Part 1: Python Basics\n",
        "### Variables and Data Types\n",
        "- Strings\n",
        "- Integers\n",
        "- Floats\n",
        "- Booleans\n",
        "\n",
        "Run the following examples and try out your own!\n"
      ],
      "metadata": {
        "id": "4Rmkr_W2IIY4"
      }
    },
    {
      "cell_type": "code",
      "execution_count": 1,
      "metadata": {
        "colab": {
          "base_uri": "https://localhost:8080/"
        },
        "id": "ZCSwP7a0D23O",
        "outputId": "9a217426-7581-4034-8c81-35bf3583bcc8"
      },
      "outputs": [
        {
          "output_type": "stream",
          "name": "stdout",
          "text": [
            "Name: John Doe, Age: 25, Salary: 55000.5, Employed: True\n"
          ]
        }
      ],
      "source": [
        "# Example 1: Variables and Data Types\n",
        "name = \"John Doe\"  # String\n",
        "age = 25  # Integer\n",
        "salary = 55000.50  # Float\n",
        "is_employed = True  # Boolean\n",
        "\n",
        "# Print these variables\n",
        "print(f\"Name: {name}, Age: {age}, Salary: {salary}, Employed: {is_employed}\")\n"
      ]
    },
    {
      "cell_type": "markdown",
      "source": [
        "## Part 2: Input and Output\n",
        "- Learn how to take input and display output.\n"
      ],
      "metadata": {
        "id": "3X-xRiwIFj17"
      }
    },
    {
      "cell_type": "code",
      "source": [
        "# Input and Output Example\n",
        "user_name = input(\"What is your name? \")\n",
        "print(f\"Hello, {user_name}!\")"
      ],
      "metadata": {
        "colab": {
          "base_uri": "https://localhost:8080/"
        },
        "id": "NfjfV75fFmt8",
        "outputId": "dea10918-82ae-4323-e166-163f66bf02f9"
      },
      "execution_count": 2,
      "outputs": [
        {
          "output_type": "stream",
          "name": "stdout",
          "text": [
            "What is your name? Rafael Martinez\n",
            "Hello, Rafael Martinez!\n"
          ]
        }
      ]
    },
    {
      "cell_type": "markdown",
      "source": [
        "## Part 3: Control Flow\n",
        "- Learn `if`, `elif`, `else` statements and loops."
      ],
      "metadata": {
        "id": "ck9ZP6DgFjlU"
      }
    },
    {
      "cell_type": "code",
      "source": [
        "# Control Flow Example\n",
        "number = int(input(\"Enter a number: \"))\n",
        "if number > 0:\n",
        "    print(\"The number is positive.\")\n",
        "elif number < 0:\n",
        "    print(\"The number is negative.\")\n",
        "else:\n",
        "    print(\"The number is zero.\")\n"
      ],
      "metadata": {
        "colab": {
          "base_uri": "https://localhost:8080/"
        },
        "id": "wZPQbhVsFwDA",
        "outputId": "4db7b59c-9dbf-4010-ef4a-d9a166c73b4d"
      },
      "execution_count": 3,
      "outputs": [
        {
          "output_type": "stream",
          "name": "stdout",
          "text": [
            "Enter a number: 456\n",
            "The number is positive.\n"
          ]
        }
      ]
    },
    {
      "cell_type": "code",
      "source": [
        "# Loop Example\n",
        "for i in range(1, 6):\n",
        "    print(f\"This is loop iteration {i}\")\n"
      ],
      "metadata": {
        "colab": {
          "base_uri": "https://localhost:8080/"
        },
        "id": "vGtujlBLFzfx",
        "outputId": "821a06d9-e759-4edc-f800-84775e53da27"
      },
      "execution_count": 4,
      "outputs": [
        {
          "output_type": "stream",
          "name": "stdout",
          "text": [
            "This is loop iteration 1\n",
            "This is loop iteration 2\n",
            "This is loop iteration 3\n",
            "This is loop iteration 4\n",
            "This is loop iteration 5\n"
          ]
        }
      ]
    },
    {
      "cell_type": "markdown",
      "source": [
        "## Part 4: Functions\n",
        "- Learn how to write reusable code using functions."
      ],
      "metadata": {
        "id": "10xZOxeEFts-"
      }
    },
    {
      "cell_type": "code",
      "source": [
        "# Function Example\n",
        "def greet_user(name):\n",
        "    return f\"Hello, {name}!\"\n",
        "\n",
        "user_name = input(\"Enter your name: \")\n",
        "print(greet_user(user_name))\n"
      ],
      "metadata": {
        "colab": {
          "base_uri": "https://localhost:8080/"
        },
        "id": "OQP7SMVOF3K2",
        "outputId": "ec67c5ed-c413-4a91-9361-3a9904c06fee"
      },
      "execution_count": 5,
      "outputs": [
        {
          "output_type": "stream",
          "name": "stdout",
          "text": [
            "Enter your name: Rafael Martinez\n",
            "Hello, Rafael Martinez!\n"
          ]
        }
      ]
    },
    {
      "cell_type": "markdown",
      "source": [
        "# Lab 1: Monthly Expenses Calculator\n",
        "\n",
        "## Instructions:\n",
        "1. Create a program that calculates total monthly expenses.\n",
        "2. Take user input for expense categories like rent, groceries, etc.\n",
        "3. Sum up the expenses and display the total.\n",
        "\n",
        "---\n",
        "\n",
        "\n"
      ],
      "metadata": {
        "id": "l3mnKnZaF3jq"
      }
    },
    {
      "cell_type": "code",
      "source": [
        "# Lab 1: Monthly Expenses Calculator test_rent, test_groceries, test_utilities, test_others = 1000, 300, 150, 50\n",
        "def calculate_expenses():\n",
        "    rent = float(input(\"Enter rent expense: \"))\n",
        "    groceries = float(input(\"Enter groceries expense: \"))\n",
        "    utilities = float(input(\"Enter utilities expense: \"))\n",
        "    others = float(input(\"Enter other expenses: \"))\n",
        "    total = rent + groceries + utilities + others\n",
        "    print(f\"Your total monthly expenses are: ${total:.2f}\")\n",
        "\n",
        "calculate_expenses()\n"
      ],
      "metadata": {
        "colab": {
          "base_uri": "https://localhost:8080/"
        },
        "id": "wP5pIxb7F3IY",
        "outputId": "5d227368-641f-4e79-904e-57ef4b79ee11"
      },
      "execution_count": 6,
      "outputs": [
        {
          "output_type": "stream",
          "name": "stdout",
          "text": [
            "Enter rent expense: 600\n",
            "Enter groceries expense: 100\n",
            "Enter utilities expense: 4509\n",
            "Enter other expenses: 38\n",
            "Your total monthly expenses are: $5247.00\n"
          ]
        }
      ]
    },
    {
      "cell_type": "code",
      "source": [
        "def calculate_expenses():\n",
        "    rent = float(input('Enter rent expense: $'))\n",
        "    groceries = float(input('Enter grocery expense: $'))\n",
        "    utilities = float(input(\"Enter utility expense: $\"))\n",
        "    cellphone = float(input('Enter phone bill expense: $'))\n",
        "    transportation = float(input('Enter transportation expense: $'))\n",
        "    subscriptions = float(input('Enter subscription expense: $'))\n",
        "    healthcare = float (input('Enter healthcare expense: $'))\n",
        "    others = float(input('Enter other expenses: $'))\n",
        "    total = rent + groceries + utilities + transportation + cellphone + subscriptions + healthcare + others\n",
        "    print(f'Your total monthly expenses are: ${total:.2f}')\n",
        "\n",
        "calculate_expenses()"
      ],
      "metadata": {
        "colab": {
          "base_uri": "https://localhost:8080/"
        },
        "id": "aHiCZIUlj8yX",
        "outputId": "b944390e-369e-4b20-d514-01e3d9e767d0"
      },
      "execution_count": 7,
      "outputs": [
        {
          "output_type": "stream",
          "name": "stdout",
          "text": [
            "Enter rent expense: $2000\n",
            "Enter grocery expense: $100\n",
            "Enter utility expense: $400\n",
            "Enter phone bill expense: $50\n",
            "Enter transportation expense: $45\n",
            "Enter subscription expense: $45\n",
            "Enter healthcare expense: $0\n",
            "Enter other expenses: $50\n",
            "Your total monthly expenses are: $2690.00\n"
          ]
        }
      ]
    },
    {
      "cell_type": "markdown",
      "source": [
        "# Workshop 1: Introduction to Python and Foundational Concepts\n",
        "\n",
        "## Objective:\n",
        "By the end of this workshop, you will:\n",
        "- Understand Python basics: variables, data types, loops, functions.\n",
        "- Write simple Python programs.\n",
        "- Complete a lab where you'll calculate monthly expenses and build a to-do list.\n",
        "\n",
        "---\n",
        "\n"
      ],
      "metadata": {
        "id": "tKGZPlx8FezK"
      }
    },
    {
      "cell_type": "markdown",
      "source": [
        "# Lab 2: To-Do List Program\n",
        "\n",
        "## Instructions:\n",
        "1. Create a program that allows the user to manage a simple to-do list.\n",
        "2. Provide options to add, view, or remove tasks.\n",
        "3. Display the updated list after each action."
      ],
      "metadata": {
        "id": "iFzOf2E0GCOB"
      }
    },
    {
      "cell_type": "code",
      "source": [
        "# Lab 2: To-Do List Program\n",
        "def todo_list_program():\n",
        "    todo_list = []\n",
        "    while True:\n",
        "        print(\"\\nOptions:\")\n",
        "        print(\"1. Add Task\")\n",
        "        print(\"2. View Tasks\")\n",
        "        print(\"3. Remove Task\")\n",
        "        print(\"4. Exit\")\n",
        "        choice = input(\"Choose an option (1-4): \")\n",
        "\n",
        "        if choice == '1':\n",
        "            task = input(\"Enter a task: \")\n",
        "            todo_list.append(task)\n",
        "            print(\"Task added.\\n\", todo_list)\n",
        "        elif choice == '2':\n",
        "            print(\"Your To-Do List:\")\n",
        "            for idx, task in enumerate(todo_list, start=1):\n",
        "                print(f\"{idx}. {task}\")\n",
        "        elif choice == '3':\n",
        "            print(\"Your To-Do List:\")\n",
        "            for idx, task in enumerate(todo_list, start=1):\n",
        "                print(f\"{idx}. {task}\")\n",
        "            task_num = int(input(\"Enter the task number to remove: \"))\n",
        "            if 0 < task_num <= len(todo_list):\n",
        "                removed_task = todo_list.pop(task_num - 1)\n",
        "                print(f\"Removed task: {removed_task}\")\n",
        "            else:\n",
        "                print(\"Invalid task number.\")\n",
        "        elif choice == '4':\n",
        "            print(\"Exiting program. Goodbye!\")\n",
        "            break\n",
        "        else:\n",
        "            print(\"Invalid option. Try again.\")\n",
        "\n",
        "todo_list_program()\n"
      ],
      "metadata": {
        "colab": {
          "base_uri": "https://localhost:8080/"
        },
        "id": "d9KwDPuNF20P",
        "outputId": "28c1a232-08b0-48df-f9b5-d3802fb9bdf1"
      },
      "execution_count": 8,
      "outputs": [
        {
          "output_type": "stream",
          "name": "stdout",
          "text": [
            "\n",
            "Options:\n",
            "1. Add Task\n",
            "2. View Tasks\n",
            "3. Remove Task\n",
            "4. Exit\n",
            "Choose an option (1-4): 1\n",
            "Enter a task: Clean Room\n",
            "Task added.\n",
            " ['Clean Room']\n",
            "\n",
            "Options:\n",
            "1. Add Task\n",
            "2. View Tasks\n",
            "3. Remove Task\n",
            "4. Exit\n",
            "Choose an option (1-4): 2\n",
            "Your To-Do List:\n",
            "1. Clean Room\n",
            "\n",
            "Options:\n",
            "1. Add Task\n",
            "2. View Tasks\n",
            "3. Remove Task\n",
            "4. Exit\n",
            "Choose an option (1-4): 3\n",
            "Your To-Do List:\n",
            "1. Clean Room\n",
            "Enter the task number to remove: 1\n",
            "Removed task: Clean Room\n",
            "\n",
            "Options:\n",
            "1. Add Task\n",
            "2. View Tasks\n",
            "3. Remove Task\n",
            "4. Exit\n",
            "Choose an option (1-4): 4\n",
            "Exiting program. Goodbye!\n"
          ]
        }
      ]
    },
    {
      "cell_type": "code",
      "source": [
        "def todo_list_program():\n",
        "    todo_list = []\n",
        "    while True:\n",
        "      print('\\nOptions:')\n",
        "      print('1. Add a Task')\n",
        "      print('2. Remove a task')\n",
        "      print('3. Show Tasks')\n",
        "      print('4. Exit Program')\n",
        "      choice = input('Choose an option (1-4): ')\n",
        "\n",
        "      if choice == '1':\n",
        "        task = input('Enter a task: ')\n",
        "        todo_list.append(task)\n",
        "        print('Task added! \\n',todo_list)\n",
        "      elif choice == '2':\n",
        "        for idx, task in enumerate(todo_list, start=1):\n",
        "           print(f\"{idx}. {task}\")\n",
        "        task_num = int(input('Enter the number of the task you wish to remove: '))\n",
        "        if 0 < task_num <= len(todo_list):\n",
        "           removed_task = todo_list.pop(task_num - 1)\n",
        "           print(f\"Removed task: {removed_task}\")\n",
        "        else:\n",
        "          print('The number you entered is invalid')\n",
        "      elif choice == '3':\n",
        "        print('Your To-do List: ')\n",
        "        for idx, task in enumerate(todo_list, start=1):\n",
        "           print(f\"{idx}. {task}\")\n",
        "      elif choice == '4':\n",
        "        print('Program shutting down. Goodbye!')\n",
        "        break\n",
        "      else:\n",
        "        print('Invalid option. Please try again.')\n",
        "\n",
        "todo_list_program()\n"
      ],
      "metadata": {
        "colab": {
          "base_uri": "https://localhost:8080/"
        },
        "id": "W-e-iMDho4ge",
        "outputId": "a244534b-2ec5-4e7a-e1f6-041debe91cfa"
      },
      "execution_count": 9,
      "outputs": [
        {
          "output_type": "stream",
          "name": "stdout",
          "text": [
            "\n",
            "Options:\n",
            "1. Add a Task\n",
            "2. Remove a task\n",
            "3. Show Tasks\n",
            "4. Exit Program\n",
            "Choose an option (1-4): 1\n",
            "Enter a task: Clean Room\n",
            "Task added! \n",
            " ['Clean Room']\n",
            "\n",
            "Options:\n",
            "1. Add a Task\n",
            "2. Remove a task\n",
            "3. Show Tasks\n",
            "4. Exit Program\n",
            "Choose an option (1-4): 1\n",
            "Enter a task: Go to work\n",
            "Task added! \n",
            " ['Clean Room', 'Go to work']\n",
            "\n",
            "Options:\n",
            "1. Add a Task\n",
            "2. Remove a task\n",
            "3. Show Tasks\n",
            "4. Exit Program\n",
            "Choose an option (1-4): 2\n",
            "1. Clean Room\n",
            "2. Go to work\n",
            "Enter the number of the task you wish to remove: 2\n",
            "Removed task: Go to work\n",
            "\n",
            "Options:\n",
            "1. Add a Task\n",
            "2. Remove a task\n",
            "3. Show Tasks\n",
            "4. Exit Program\n",
            "Choose an option (1-4): 3\n",
            "Your To-do List: \n",
            "1. Clean Room\n",
            "\n",
            "Options:\n",
            "1. Add a Task\n",
            "2. Remove a task\n",
            "3. Show Tasks\n",
            "4. Exit Program\n",
            "Choose an option (1-4): 4\n",
            "Program shutting down. Goodbye!\n"
          ]
        }
      ]
    },
    {
      "cell_type": "markdown",
      "source": [
        "# Homework\n",
        "1. Write a Python program that:\n",
        "   - Takes a list of numbers from the user.\n",
        "   - Calculates the sum, average, maximum, and minimum of the numbers.\n",
        "\n",
        "2. Write a program to simulate a basic calculator:\n",
        "   - Allow the user to perform addition, subtraction, multiplication, and division.\n"
      ],
      "metadata": {
        "id": "iutwHR8GGQEX"
      }
    },
    {
      "cell_type": "code",
      "source": [
        "# Function to check the Monthly Expenses Calculator\n",
        "def check_calculate_expenses():\n",
        "    test_rent, test_groceries, test_utilities, test_others = 1000, 300, 150, 50\n",
        "    expected_total = test_rent + test_groceries + test_utilities + test_others\n",
        "\n",
        "    # Simulate inputs\n",
        "    print(\"Testing Monthly Expenses Calculator...\")\n",
        "    user_total = calculate_expenses(test_rent, test_groceries, test_utilities, test_others)\n",
        "\n",
        "    if user_total == expected_total:\n",
        "        print(\"Test passed!\")\n",
        "    else:\n",
        "        print(f\"Test failed. Expected: {expected_total}, Got: {user_total}\")"
      ],
      "metadata": {
        "id": "7tnB1xV3GM3D"
      },
      "execution_count": null,
      "outputs": []
    },
    {
      "cell_type": "code",
      "source": [
        "\n",
        "# Function to check To-Do List Program\n",
        "def check_todo_list_program():\n",
        "    print(\"Testing To-Do List Program...\")\n",
        "    todo_list = [\"Task 1\", \"Task 2\", \"Task 3\"]\n",
        "\n",
        "    # Simulate user interactions\n",
        "    add_task(todo_list, \"Task 4\")\n",
        "    if len(todo_list) != 4 or todo_list[-1] != \"Task 4\":\n",
        "        print(\"Test failed on adding task.\")\n",
        "        return\n",
        "\n",
        "    remove_task(todo_list, 1)\n",
        "    if len(todo_list) != 3 or todo_list[0] != \"Task 2\":\n",
        "        print(\"Test failed on removing task.\")\n",
        "        return\n",
        "\n",
        "    print(\"All tests passed!\")"
      ],
      "metadata": {
        "id": "05nyCWOkGZnM"
      },
      "execution_count": null,
      "outputs": []
    }
  ]
}